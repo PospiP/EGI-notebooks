{
 "cells": [
  {
   "cell_type": "markdown",
   "id": "463e3253-84b9-4e8c-bfb6-013133fb85af",
   "metadata": {},
   "source": [
    "# ElementTree XML parsing"
   ]
  },
  {
   "cell_type": "markdown",
   "id": "1e7116d7-1b29-44c5-9b2e-9426ddfed86d",
   "metadata": {},
   "source": [
    "First choose a file using simple library [`ipyfilechooser`](https://pypi.org/project/ipyfilechooser/)"
   ]
  },
  {
   "cell_type": "code",
   "execution_count": 1,
   "id": "2c3fadd2-5ff4-4bb6-8903-7c9439b382fe",
   "metadata": {},
   "outputs": [
    {
     "data": {
      "application/vnd.jupyter.widget-view+json": {
<<<<<<< HEAD
       "model_id": "c70722047c794930be401125c0176bd9",
=======
       "model_id": "c4019941cb7748b6919934278644f780",
>>>>>>> f22f991de1ef1703e500e246971a14bce5d7f48b
       "version_major": 2,
       "version_minor": 0
      },
      "text/plain": [
       "FileChooser(path='C:\\Users\\Petr\\Documents\\github\\notebooks', filename='', title='', show_hidden=False, select_…"
      ]
     },
     "metadata": {},
     "output_type": "display_data"
    }
   ],
   "source": [
    "from ipyfilechooser import FileChooser\n",
    "fc = FileChooser()\n",
    "display(fc)"
   ]
  },
  {
   "cell_type": "code",
   "execution_count": 2,
   "id": "36cfc6ff-d6b3-4b05-8666-95aceb9e9fb1",
   "metadata": {},
   "outputs": [
    {
     "name": "stdout",
     "output_type": "stream",
     "text": [
      "C:\\Users\\Petr\\Documents\\github\\notebooks\\metadata\\Test.tif_info.xml\n"
     ]
    }
   ],
   "source": [
    "file_path = fc.selected_path + '\\\\' + fc.selected_filename\n",
    "print(file_path)"
   ]
  },
  {
   "cell_type": "markdown",
   "id": "732b22fe-5a36-4fca-a531-354c4110e7cc",
   "metadata": {},
   "source": [
    "**[The ElementTree XML API](https://docs.python.org/3/library/xml.etree.elementtree.html)** is a a simple and efficient API for browsing through (parsing) and creating XML data. Nice explanation is <mark>[here](https://www.datacamp.com/tutorial/python-xml-elementtree)</mark> and a video tutorial:"
   ]
  },
  {
   "cell_type": "code",
   "execution_count": 3,
   "id": "c658e04f-76cc-4f16-a873-f769c44b63f1",
   "metadata": {},
   "outputs": [
    {
     "data": {
      "text/html": [
       "<iframe width=\"560\" height=\"315\" src=\"https://www.youtube.com/embed/bWfAD7wAfOI?si=nhqM_AwUzyy2yybg\" </iframe>\n"
      ],
      "text/plain": [
       "<IPython.core.display.HTML object>"
      ]
     },
     "metadata": {},
     "output_type": "display_data"
    }
   ],
   "source": [
    "%%HTML\n",
    "<iframe width=\"560\" height=\"315\" src=\"https://www.youtube.com/embed/bWfAD7wAfOI?si=nhqM_AwUzyy2yybg\" </iframe>"
   ]
  },
  {
   "cell_type": "code",
<<<<<<< HEAD
   "execution_count": 3,
=======
   "execution_count": 4,
>>>>>>> f22f991de1ef1703e500e246971a14bce5d7f48b
   "id": "5cbf7eff-4151-437a-9c7c-89174b04cbf9",
   "metadata": {},
   "outputs": [],
   "source": [
    "import xml.etree.ElementTree as ET"
   ]
  },
  {
   "cell_type": "markdown",
   "id": "cfea85c7-cb75-42aa-b297-08d5e87cc22d",
   "metadata": {},
   "source": [
    "Reading in the file with `ElementTree`"
   ]
  },
  {
   "cell_type": "code",
<<<<<<< HEAD
   "execution_count": 4,
=======
   "execution_count": 5,
>>>>>>> f22f991de1ef1703e500e246971a14bce5d7f48b
   "id": "b743883e-426d-475f-8544-fcb8525bfcca",
   "metadata": {},
   "outputs": [
    {
     "name": "stdout",
     "output_type": "stream",
     "text": [
<<<<<<< HEAD
      "<xml.etree.ElementTree.ElementTree object at 0x0000027F74BA0B60>\n"
=======
      "<xml.etree.ElementTree.ElementTree object at 0x0000017BAE896280>\n"
>>>>>>> f22f991de1ef1703e500e246971a14bce5d7f48b
     ]
    }
   ],
   "source": [
    "meta = ET.parse(file_path)\n",
    "print(meta)"
   ]
  },
  {
   "cell_type": "code",
<<<<<<< HEAD
   "execution_count": 5,
=======
   "execution_count": 6,
>>>>>>> f22f991de1ef1703e500e246971a14bce5d7f48b
   "id": "2249315a-eb7a-43d2-8bb3-981c1b2745d4",
   "metadata": {},
   "outputs": [
    {
     "name": "stdout",
     "output_type": "stream",
     "text": [
<<<<<<< HEAD
      "<Element 'ExportDocument' at 0x0000027F74D8A570>\n"
=======
      "<Element 'ExportDocument' at 0x0000017BAE894A90>\n"
>>>>>>> f22f991de1ef1703e500e246971a14bce5d7f48b
     ]
    }
   ],
   "source": [
    "root = meta.getroot()\n",
    "print(root)"
   ]
  },
  {
   "cell_type": "markdown",
   "id": "4e2971a8-a122-4597-8c24-990c94345954",
   "metadata": {},
   "source": [
    "To show the original xml file we can use `dump`"
   ]
  },
  {
   "cell_type": "code",
   "execution_count": 7,
   "id": "b21eb459-0416-45bf-adb0-22c087f5b951",
   "metadata": {},
   "outputs": [
    {
     "name": "stdout",
     "output_type": "stream",
     "text": [
      "<ExportDocument>\n",
      "  <Image>\n",
      "    <Filename>2023-12-08_13_28_12_t01_Cy5_ORG.tif</Filename>\n",
      "    <Bounds StartX=\"0\" SizeX=\"816\" StartY=\"0\" SizeY=\"816\" StartZ=\"0\" StartC=\"0\" StartT=\"0\" StartH=\"0\" />\n",
      "    <Zoom>1</Zoom>\n",
      "    <Z Unit=\"µm\">-1374.8900</Z>\n",
      "    <T Unit=\"s\">0.000000</T>\n",
      "  </Image>\n",
      "  <Image>\n",
      "    <Filename>2023-12-08_13_28_12_t02_Cy5_ORG.tif</Filename>\n",
      "    <Bounds StartX=\"0\" SizeX=\"816\" StartY=\"0\" SizeY=\"816\" StartZ=\"0\" StartC=\"0\" StartT=\"1\" StartH=\"0\" />\n",
      "    <Zoom>1</Zoom>\n",
      "    <Z Unit=\"µm\">-1374.8900</Z>\n",
      "    <T Unit=\"s\">1.704000</T>\n",
      "  </Image>\n",
      "  <Image>\n",
      "    <Filename>2023-12-08_13_28_12_t55_Cy5_ORG.tif</Filename>\n",
      "    <Bounds StartX=\"0\" SizeX=\"816\" StartY=\"0\" SizeY=\"816\" StartZ=\"0\" StartC=\"0\" StartT=\"54\" StartH=\"0\" />\n",
      "    <Zoom>1</Zoom>\n",
      "    <Z Unit=\"µm\">-1374.8900</Z>\n",
      "    <T Unit=\"s\">91.804000</T>\n",
      "  </Image>\n",
      "</ExportDocument>\n"
     ]
    }
   ],
   "source": [
<<<<<<< HEAD
    "ET.dump(meta)\n",
    "#Alternative way\n",
    "#print(ET.tostring(root, encoding='utf8').decode('utf8'))"
=======
    "ET.dump(meta)"
   ]
  },
  {
   "cell_type": "markdown",
   "id": "95873efd-fa4d-4747-baa7-54d77cd39982",
   "metadata": {},
   "source": [
    "**XML** documents have sections, called ***elements***, defined by a beginning and an ending ***tag***. A tag is a markup construct that begins with < and ends with >. In this case it is, for example, <span style=\"color:green\">\\<Image></span>."
   ]
  },
  {
   "cell_type": "code",
   "execution_count": 8,
   "id": "74a823bc-1e13-45da-82ec-c66e3a25b00d",
   "metadata": {},
   "outputs": [
    {
     "name": "stdout",
     "output_type": "stream",
     "text": [
      "Image\n",
      "Image\n",
      "Image\n"
     ]
    }
   ],
   "source": [
    "for element in root.findall(\"Image\"):\n",
    "    print(element.tag)"
>>>>>>> f22f991de1ef1703e500e246971a14bce5d7f48b
   ]
  },
  {
   "cell_type": "markdown",
   "id": "3dc741fd-643c-4d28-a669-ba302a4b4a67",
   "metadata": {},
   "source": [
    "The largest, top-level element is called the ***root***, which contains all other elements. Here it is <span style=\"color:green\">\\<ExportDocument></span>. "
   ]
  },
  {
   "cell_type": "code",
   "execution_count": 47,
   "id": "007a6d47-b904-474a-9893-44a56a965133",
   "metadata": {},
   "outputs": [
    {
     "name": "stdout",
     "output_type": "stream",
     "text": [
      "For loop:  ExportDocument\n",
      "root.tag:  ExportDocument\n"
     ]
    }
   ],
   "source": [
    "for element in root.findall(\".\"):\n",
    "    print('For loop: ',element.tag)\n",
    "\n",
    "#Another way how to get root tag \n",
    "print('root.tag: ',root.tag)"
   ]
  },
  {
   "cell_type": "markdown",
   "id": "95873efd-fa4d-4747-baa7-54d77cd39982",
   "metadata": {},
   "source": [
    "**XML** documents have sections, called ***elements***, defined by a beginning and an ending ***tag***. A tag is a markup construct that begins with `<` and ends with `>`. In this case it is, for example, <span style=\"color:green\">\\<Image></span>. For looking into the tree one needs to iterate through using `for loop`"
   ]
  },
  {
   "cell_type": "code",
   "execution_count": 16,
   "id": "74a823bc-1e13-45da-82ec-c66e3a25b00d",
   "metadata": {},
   "outputs": [
    {
     "name": "stdout",
     "output_type": "stream",
     "text": [
      "Image\n",
      "Image\n",
      "Image\n"
     ]
    }
   ],
   "source": [
    "# This will find all elements with Image tag\n",
    "for child in root:\n",
    "    print(child.tag)"
   ]
  },
  {
   "cell_type": "markdown",
   "id": "c64084d5-7312-4b59-8aba-b9aebe297f46",
   "metadata": {},
   "source": [
    "The characters between the start-tag and end-tag, if there are any, are the ***element's content***. Elements can contain markup, including other elements, which are called ***\"child elements\"***. Inside <span style=\"color:green\">\\<Image></span> there are *Filename, Bounds, Zoom, Z and T*. Typically it is helpful to know all the elements in the entire tree. One useful function for doing that is `root.iter()`. You can put this function into a \"for\" loop and it will iterate over the entire tree."
   ]
  },
  {
   "cell_type": "code",
   "execution_count": 19,
   "id": "cce7016f-717a-499e-b782-83691f341a40",
   "metadata": {},
   "outputs": [
    {
     "data": {
      "text/plain": [
       "['ExportDocument',\n",
       " 'Image',\n",
       " 'Filename',\n",
       " 'Bounds',\n",
       " 'Zoom',\n",
       " 'Z',\n",
       " 'T',\n",
       " 'Image',\n",
       " 'Filename',\n",
       " 'Bounds',\n",
       " 'Zoom',\n",
       " 'Z',\n",
       " 'T',\n",
       " 'Image',\n",
       " 'Filename',\n",
       " 'Bounds',\n",
       " 'Zoom',\n",
       " 'Z',\n",
       " 'T']"
      ]
     },
     "execution_count": 19,
     "metadata": {},
     "output_type": "execute_result"
    }
   ],
   "source": [
    "[elem.tag for elem in root.iter()]"
   ]
  },
  {
   "cell_type": "markdown",
   "id": "10d7c574-e77a-47f7-8127-bf693908d0bf",
   "metadata": {},
   "source": [
    "You can expand the use of the `iter()` function to help with finding particular elements of interest. `root.iter()` will list all subelements under the root that match the element specified. "
   ]
  },
  {
   "cell_type": "code",
   "execution_count": 51,
   "id": "1258072d-d0bc-4447-82a2-398714252e60",
   "metadata": {},
   "outputs": [
    {
     "name": "stdout",
     "output_type": "stream",
     "text": [
      "{'StartX': '0', 'SizeX': '816', 'StartY': '0', 'SizeY': '816', 'StartZ': '0', 'StartC': '0', 'StartT': '0', 'StartH': '0'}\n",
      "{'StartX': '0', 'SizeX': '816', 'StartY': '0', 'SizeY': '816', 'StartZ': '0', 'StartC': '0', 'StartT': '1', 'StartH': '0'}\n",
      "{'StartX': '0', 'SizeX': '816', 'StartY': '0', 'SizeY': '816', 'StartZ': '0', 'StartC': '0', 'StartT': '54', 'StartH': '0'}\n"
     ]
    }
   ],
   "source": [
    "for element in root.iter('Bounds'):\n",
    "    print(element.attrib)"
   ]
  },
  {
   "cell_type": "markdown",
   "id": "cf5f5339-ef89-43d7-be42-9fdbbb4faf63",
   "metadata": {},
   "source": [
    "***Attributes*** are name–value pair that exist within a start-tag or empty-element tag. An XML attribute can only have a single value and each attribute can appear at most once on each element. Here it is inside <span style=\"color:green\">\\<Bounds></span>"
   ]
  },
  {
   "cell_type": "markdown",
   "id": "cbd5c566-e603-442f-93fa-f8f3d6cf9662",
   "metadata": {},
   "source": [
    "Many times elements will not have attributes, they will only have text content. Using the attribute `.text`, you can print out this content."
   ]
  },
  {
   "cell_type": "code",
   "execution_count": 22,
   "id": "ef2dd56b-3a4c-4a3a-926e-ddaf3d0bed00",
   "metadata": {},
   "outputs": [
    {
     "name": "stdout",
     "output_type": "stream",
     "text": [
      "0.000000\n",
      "1.704000\n",
      "91.804000\n"
     ]
    }
   ],
   "source": [
    "for element in root.iter('T'):\n",
    "    print(element.text)"
   ]
  },
  {
   "cell_type": "markdown",
   "id": "f2f92967-a65d-47c3-8cd1-8e05c898d007",
   "metadata": {},
   "source": [
    "ElementTree has a `.findall()` function that will traverse the immediate children of the referenced element."
   ]
  },
  {
   "cell_type": "code",
   "execution_count": 49,
   "id": "6441f592-6881-496d-81fc-262c6d7a08fb",
   "metadata": {},
   "outputs": [
    {
     "name": "stdout",
     "output_type": "stream",
     "text": [
      "The root level:  ExportDocument\n",
      "\n",
      "The first child level:  Image\n",
      "The first child level:  Image\n",
      "The first child level:  Image\n",
      "\n",
      "The second child level:  Image\n",
      "The second child level:  Filename\n",
      "The second child level:  Bounds\n",
      "The second child level:  Zoom\n",
      "The second child level:  Z\n",
      "The second child level:  T\n",
      "The second child level:  Image\n",
      "The second child level:  Filename\n",
      "The second child level:  Bounds\n",
      "The second child level:  Zoom\n",
      "The second child level:  Z\n",
      "The second child level:  T\n",
      "The second child level:  Image\n",
      "The second child level:  Filename\n",
      "The second child level:  Bounds\n",
      "The second child level:  Zoom\n",
      "The second child level:  Z\n",
      "The second child level:  T\n"
     ]
    }
   ],
   "source": [
    "for element in root.findall(\".\"):\n",
    "    print('The root level: ', element.tag)\n",
    "print()\n",
    "\n",
    "for element in root.findall(\"./\"):\n",
    "    print('The first child level: ', element.tag)\n",
    "print()\n",
    "\n",
    "for element in root.findall(\".//\"):\n",
    "    print('The second child level: ', element.tag)"
   ]
  },
  {
   "cell_type": "markdown",
   "id": "1045c414-4291-4c57-86d9-cba8ff71c4fc",
   "metadata": {},
   "source": [
    "It is possible to use `findall()` as a kind of version of file searching through XML"
   ]
  },
  {
   "cell_type": "code",
   "execution_count": 53,
   "id": "ea701bce-cc04-418c-bf68-5f178bd7987a",
   "metadata": {},
   "outputs": [
    {
     "name": "stdout",
     "output_type": "stream",
     "text": [
      "2023-12-08_13_28_12_t01_Cy5_ORG.tif\n",
      "2023-12-08_13_28_12_t02_Cy5_ORG.tif\n",
      "2023-12-08_13_28_12_t55_Cy5_ORG.tif\n"
     ]
    }
   ],
   "source": [
    "for element in root.findall(\"./Image/Filename\"):\n",
    "    print(element.text)"
   ]
  },
  {
   "cell_type": "markdown",
   "id": "61e6dc66-e0e3-4a57-965b-212b763a29ef",
   "metadata": {},
   "source": [
    "We can use `findall()` instead of `root.iter`"
   ]
  },
  {
   "cell_type": "code",
   "execution_count": 31,
   "id": "6972a80f-b7a7-4e09-83d0-7cebe9b9fe13",
   "metadata": {},
   "outputs": [
    {
     "name": "stdout",
     "output_type": "stream",
     "text": [
      "{'StartX': '0', 'SizeX': '816', 'StartY': '0', 'SizeY': '816', 'StartZ': '0', 'StartC': '0', 'StartT': '0', 'StartH': '0'}\n",
      "{'StartX': '0', 'SizeX': '816', 'StartY': '0', 'SizeY': '816', 'StartZ': '0', 'StartC': '0', 'StartT': '1', 'StartH': '0'}\n",
      "{'StartX': '0', 'SizeX': '816', 'StartY': '0', 'SizeY': '816', 'StartZ': '0', 'StartC': '0', 'StartT': '54', 'StartH': '0'}\n"
     ]
    }
   ],
   "source": [
    "for element in root.findall(\".//Bounds\"):\n",
    "    print(element.attrib)"
   ]
  },
  {
   "cell_type": "markdown",
   "id": "91c152bf-4e0f-4fc5-bacc-31103bcc5dc1",
   "metadata": {},
   "source": [
    "We can specify through `findall()` which branch we want."
   ]
  },
  {
   "cell_type": "code",
   "execution_count": 59,
   "id": "e58991ba-76ee-483d-b282-61cc31bb4561",
   "metadata": {},
   "outputs": [
    {
     "name": "stdout",
     "output_type": "stream",
     "text": [
      "{'StartX': '0', 'SizeX': '816', 'StartY': '0', 'SizeY': '816', 'StartZ': '0', 'StartC': '0', 'StartT': '0', 'StartH': '0'}\n"
     ]
    }
   ],
   "source": [
    "for element in root.findall(\"./Image/Bounds[@StartT='0']\"):\n",
    "    print(element.attrib)\n",
    "    bounds_dict = element.attrib"
   ]
  },
  {
   "cell_type": "markdown",
   "id": "3f63ecd1-d4b7-42e8-afd3-3325b9dff0f2",
   "metadata": {},
   "source": [
    "Then it behaves as a normal dictionary"
   ]
  },
  {
   "cell_type": "code",
   "execution_count": 60,
   "id": "5ea33ed4-1813-46a7-ae44-565d508792ee",
   "metadata": {},
   "outputs": [
    {
     "data": {
      "text/plain": [
       "'816'"
      ]
     },
     "execution_count": 60,
     "metadata": {},
     "output_type": "execute_result"
    }
   ],
   "source": [
    "bounds_dict['SizeX']"
   ]
  },
  {
   "cell_type": "code",
   "execution_count": null,
   "id": "e6e67512-c983-471f-9c15-7bf7451b125f",
   "metadata": {},
   "outputs": [],
   "source": []
  },
  {
   "cell_type": "code",
   "execution_count": null,
   "id": "c1710522-3432-462f-97dc-bbf6cd898d7d",
   "metadata": {},
   "outputs": [],
   "source": []
  }
 ],
 "metadata": {
  "kernelspec": {
   "display_name": "Python 3 (ipykernel)",
   "language": "python",
   "name": "python3"
  },
  "language_info": {
   "codemirror_mode": {
    "name": "ipython",
    "version": 3
   },
   "file_extension": ".py",
   "mimetype": "text/x-python",
   "name": "python",
   "nbconvert_exporter": "python",
   "pygments_lexer": "ipython3",
   "version": "3.12.2"
  }
 },
 "nbformat": 4,
 "nbformat_minor": 5
}
