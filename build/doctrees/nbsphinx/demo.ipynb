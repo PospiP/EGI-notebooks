{
 "cells": [
  {
   "cell_type": "markdown",
   "id": "011c23bf-a922-4022-afee-a182a9f59062",
   "metadata": {},
   "source": [
    "## Welcome to the Jupyter demo"
   ]
  },
  {
   "cell_type": "code",
   "execution_count": 1,
   "id": "60698208-1d29-4bae-8938-3276aa5d3485",
   "metadata": {},
   "outputs": [],
   "source": [
    "import ipywidgets as ipw"
   ]
  },
  {
   "cell_type": "code",
   "execution_count": 5,
   "id": "2532fbf9-e0e5-489c-a08b-6be272d89b54",
   "metadata": {},
   "outputs": [
    {
     "data": {
      "application/vnd.jupyter.widget-view+json": {
       "model_id": "f47f583fdb914d69ae68f8cbcb4f056d",
       "version_major": 2,
       "version_minor": 0
      },
      "text/plain": [
       "IntSlider(value=10, max=20)"
      ]
     },
     "metadata": {},
     "output_type": "display_data"
    }
   ],
   "source": [
    "slider = ipw.IntSlider(min=0, value=10, max=20)\n",
    "slider"
   ]
  },
  {
   "cell_type": "code",
   "execution_count": 6,
   "id": "0d8098c6-5381-451d-a5e0-380c5f5462bc",
   "metadata": {},
   "outputs": [
    {
     "data": {
      "application/vnd.jupyter.widget-view+json": {
       "model_id": "f47f583fdb914d69ae68f8cbcb4f056d",
       "version_major": 2,
       "version_minor": 0
      },
      "text/plain": [
       "IntSlider(value=11, max=20)"
      ]
     },
     "metadata": {},
     "output_type": "display_data"
    }
   ],
   "source": [
    "slider"
   ]
  }
 ],
 "metadata": {
  "kernelspec": {
   "display_name": "Python 3",
   "language": "python",
   "name": "python3"
  },
  "language_info": {
   "codemirror_mode": {
    "name": "ipython",
    "version": 3
   },
   "file_extension": ".py",
   "mimetype": "text/x-python",
   "name": "python",
   "nbconvert_exporter": "python",
   "pygments_lexer": "ipython3",
   "version": "3.9.6"
  },
  "widgets": {
   "application/vnd.jupyter.widget-state+json": {
    "state": {
     "044b06e0b05f4a7d81ceeab4de8c2e8e": {
      "model_module": "@jupyter-widgets/controls",
      "model_module_version": "1.5.0",
      "model_name": "SliderStyleModel",
      "state": {
       "description_width": ""
      }
     },
     "6dad9f74556a439e8f96605906506415": {
      "model_module": "@jupyter-widgets/controls",
      "model_module_version": "1.5.0",
      "model_name": "IntSliderModel",
      "state": {
       "layout": "IPY_MODEL_9cc446491bb946e89d6d4287bf1d356f",
       "max": 20,
       "style": "IPY_MODEL_77e64b71f1b740f39ad7565e5a3cc6e0",
       "value": 10
      }
     },
     "77e64b71f1b740f39ad7565e5a3cc6e0": {
      "model_module": "@jupyter-widgets/controls",
      "model_module_version": "1.5.0",
      "model_name": "SliderStyleModel",
      "state": {
       "description_width": ""
      }
     },
     "7e1210bd97744d9ea513d663c1abd07d": {
      "model_module": "@jupyter-widgets/controls",
      "model_module_version": "1.5.0",
      "model_name": "SliderStyleModel",
      "state": {
       "description_width": ""
      }
     },
     "82c7219da32e457bbc89d25a236a3eef": {
      "model_module": "@jupyter-widgets/base",
      "model_module_version": "1.2.0",
      "model_name": "LayoutModel",
      "state": {}
     },
     "9cc446491bb946e89d6d4287bf1d356f": {
      "model_module": "@jupyter-widgets/base",
      "model_module_version": "1.2.0",
      "model_name": "LayoutModel",
      "state": {}
     },
     "cefaccd41b2f4111968e0a4af1b6fbcd": {
      "model_module": "@jupyter-widgets/base",
      "model_module_version": "1.2.0",
      "model_name": "LayoutModel",
      "state": {}
     },
     "f47f583fdb914d69ae68f8cbcb4f056d": {
      "model_module": "@jupyter-widgets/controls",
      "model_module_version": "1.5.0",
      "model_name": "IntSliderModel",
      "state": {
       "layout": "IPY_MODEL_82c7219da32e457bbc89d25a236a3eef",
       "max": 20,
       "style": "IPY_MODEL_044b06e0b05f4a7d81ceeab4de8c2e8e",
       "value": 10
      }
     },
     "f8c4112228254eda91eaa833d234913c": {
      "model_module": "@jupyter-widgets/controls",
      "model_module_version": "1.5.0",
      "model_name": "IntSliderModel",
      "state": {
       "layout": "IPY_MODEL_cefaccd41b2f4111968e0a4af1b6fbcd",
       "max": 10,
       "style": "IPY_MODEL_7e1210bd97744d9ea513d663c1abd07d",
       "value": 6
      }
     }
    },
    "version_major": 2,
    "version_minor": 0
   }
  }
 },
 "nbformat": 4,
 "nbformat_minor": 5
}
